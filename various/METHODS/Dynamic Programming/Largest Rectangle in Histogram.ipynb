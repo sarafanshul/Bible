{
 "cells": [
  {
   "cell_type": "markdown",
   "metadata": {},
   "source": [
    "# Largest Rectangle in Histogram"
   ]
  },
  {
   "cell_type": "markdown",
   "metadata": {},
   "source": [
    "## Approach"
   ]
  },
  {
   "cell_type": "markdown",
   "metadata": {},
   "source": [
    "### Complexity `O(n)`\n",
    "\n",
    "For any bar i the maximum rectangle is of width `r - l - 1` where r - is the last coordinate of the bar to the right with height `h[r] >= h[i]` and l - is the last coordinate of the bar to the left which height `h[l] >= h[i]`\n",
    "\n",
    "The meaning of `r` and `l` is somewhat confusing, to put them more accurately:\n",
    "\n",
    "`l`: the first coordinate of the bar to the left with height `h[l] < h[i]`.\n",
    "\n",
    "`r`: the first coordinate of the bar to the right with height `h[r] < h[i]`.\n",
    "\n",
    "[image](https://i.loli.net/2018/10/29/5bd65b33c2798.png)\n",
    "\n",
    "So if for any i coordinate we know his utmost higher (or of the same height) neighbors to the right and to the left, we can \n",
    "easily find the largest rectangle:\n",
    "\n",
    "```java\n",
    "int maxArea = 0;\n",
    "for (int i = 0; i < height.length; i++) {\n",
    "    maxArea = Math.max(maxArea, height[i] * (lessFromRight[i] - lessFromLeft[i] - 1));\n",
    "}\n",
    "```\n",
    "\n",
    "The main trick is how to effectively calculate lessFromRight and lessFromLeft arrays. The trivial solution is to use `O(n^2) `solution and for each i element first find his left/right heighbour in the second inner loop just iterating back or forward:\n",
    "\n",
    "```java\n",
    "for (int i = 1; i < height.length; i++) {              \n",
    "    int p = i - 1;\n",
    "    while (p >= 0 && height[p] >= height[i]) {\n",
    "        p--;\n",
    "    }\n",
    "    lessFromLeft[i] = p;              \n",
    "}\n",
    "```\n",
    "\n",
    "The only line change shifts this algorithm from `O(n^2) -> O(n)` complexity: we don't need to rescan each item to the left - we can reuse results of previous calculations and \"jump\" through indices in quick manner:\n",
    "\n",
    "```java\n",
    "while (p >= 0 && height[p] >= height[i]) {\n",
    "      p = lessFromLeft[p];\n",
    "}\n",
    "```\n",
    "Here is the whole solution:\n",
    "\n",
    "```java\n",
    "public static int largestRectangleArea(int[] height) {\n",
    "    if (height == null || height.length == 0) {\n",
    "        return 0;\n",
    "    }\n",
    "    int[] lessFromLeft = new int[height.length]; // idx of the first bar the left that is lower than current\n",
    "    int[] lessFromRight = new int[height.length]; // idx of the first bar the right that is lower than current\n",
    "    lessFromRight[height.length - 1] = height.length;\n",
    "    lessFromLeft[0] = -1;\n",
    "\n",
    "    for (int i = 1; i < height.length; i++) {\n",
    "        int p = i - 1;\n",
    "\n",
    "        while (p >= 0 && height[p] >= height[i]) {\n",
    "            p = lessFromLeft[p];\n",
    "        }\n",
    "        lessFromLeft[i] = p;\n",
    "    }\n",
    "\n",
    "    for (int i = height.length - 2; i >= 0; i--) {\n",
    "        int p = i + 1;\n",
    "\n",
    "        while (p < height.length && height[p] >= height[i]) {\n",
    "            p = lessFromRight[p];\n",
    "        }\n",
    "        lessFromRight[i] = p;\n",
    "    }\n",
    "\n",
    "    int maxArea = 0;\n",
    "    for (int i = 0; i < height.length; i++) {\n",
    "        maxArea = Math.max(maxArea, height[i] * (lessFromRight[i] - lessFromLeft[i] - 1));\n",
    "    }\n",
    "\n",
    "    return maxArea;\n",
    "}\n",
    "```"
   ]
  },
  {
   "cell_type": "markdown",
   "metadata": {},
   "source": [
    "[Question Link](https://leetcode.com/problems/largest-rectangle-in-histogram/)\n"
   ]
  },
  {
   "cell_type": "code",
   "execution_count": null,
   "metadata": {},
   "outputs": [],
   "source": []
  }
 ],
 "metadata": {
  "kernelspec": {
   "display_name": "Python 3",
   "language": "python",
   "name": "python3"
  },
  "language_info": {
   "codemirror_mode": {
    "name": "ipython",
    "version": 3
   },
   "file_extension": ".py",
   "mimetype": "text/x-python",
   "name": "python",
   "nbconvert_exporter": "python",
   "pygments_lexer": "ipython3",
   "version": "3.7.3"
  }
 },
 "nbformat": 4,
 "nbformat_minor": 2
}
